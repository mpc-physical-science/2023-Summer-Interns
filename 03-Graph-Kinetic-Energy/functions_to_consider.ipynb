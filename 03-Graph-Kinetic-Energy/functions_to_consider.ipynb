{
 "cells": [
  {
   "cell_type": "markdown",
   "id": "8ff833b0-b398-450b-af6d-10faf2d753b7",
   "metadata": {},
   "source": [
    "# Functions to Consider\n",
    "\n",
    "Similar to what I put up on the board, here are some Python functions and commands, which might be helpful."
   ]
  },
  {
   "cell_type": "markdown",
   "id": "7f537e6c-0182-4e5d-9132-42e9c91b3db8",
   "metadata": {},
   "source": [
    "## Lists\n",
    "When you have a set of objects which you want to use together, its great to store them in a list. It is also helpful to have matching lists, so the subscript for each matches the object. And it is helpful, though not mandatory to name the list in plural then reference it, in singular fashion."
   ]
  },
  {
   "cell_type": "markdown",
   "id": "c9109fd4-91fb-4a95-9147-faeab5e0a84c",
   "metadata": {},
   "source": [
    "### Define the lists\n",
    "The number of calories **match** the fruit in order as in 1 oz of an apple has 15 calories, 1 oz of a banana has 25 calories and so on."
   ]
  },
  {
   "cell_type": "code",
   "execution_count": 1,
   "id": "ca887273-e29a-4cdb-b987-c36295796331",
   "metadata": {},
   "outputs": [],
   "source": [
    "import pandas as pd\n",
    "fruits = [\"apple\", \"banana\", \"orange\", \"grape\"]\n",
    "calories = [15, 25, 13, 20]"
   ]
  },
  {
   "cell_type": "markdown",
   "id": "9a1fbf59-c4d3-41dd-a36f-e28bf1fcc809",
   "metadata": {},
   "source": [
    "### Using lists\n",
    "You may also use a function called `enumerate()` to automatically index the list you are using. "
   ]
  },
  {
   "cell_type": "code",
   "execution_count": 2,
   "id": "ca0d142d-6900-498a-8806-aa4e22f1186b",
   "metadata": {},
   "outputs": [
    {
     "name": "stdout",
     "output_type": "stream",
     "text": [
      "The number of calories in 4 oz of an apple is 60\n",
      "The number of calories in 4 oz of an banana is 100\n",
      "The number of calories in 4 oz of an orange is 52\n",
      "The number of calories in 4 oz of an grape is 80\n"
     ]
    }
   ],
   "source": [
    "for i, fruit in enumerate(fruits):\n",
    "    print(f\"The number of calories in 4 oz of an {fruit} is {4 * calories[i]}\")   "
   ]
  },
  {
   "cell_type": "markdown",
   "id": "cc99b7b8-f776-41c3-b0b4-bb6a748242a3",
   "metadata": {},
   "source": [
    "## Two dimensional dictionaries or lists\n",
    "When using a dictionary with a list as a value, it looks like a two-dimensional list except the first subscript is the key and the second subscript is the index of the element of the list.\n",
    "\n",
    "For example, if we had a dictionary of fruits as above, and we wanted to show the caloric intake for a snack amount (1 oz), meal amount (4 oz) or in a day (8 oz):"
   ]
  },
  {
   "cell_type": "code",
   "execution_count": 3,
   "id": "7b8cacbb-2d70-4d62-adef-3bf1e69ec339",
   "metadata": {},
   "outputs": [],
   "source": [
    "table = {\n",
    "   \"fruits\": [\"snack\", \"meal\", \"day\"],\n",
    "   \"apple\": [],\n",
    "   \"banana\": [],\n",
    "   \"orange\": [],\n",
    "    \"grape\": []\n",
    "}"
   ]
  },
  {
   "cell_type": "markdown",
   "id": "a1f4ec87-a579-4ce0-a907-4f5c7a6c833d",
   "metadata": {},
   "source": [
    "As we are using a list within the dictionary, a simple way to add to the list is to use the list.append() command. By using the enumerate and an index, you don't have to manually keep track of the size of the list. Try adding another fruit **AND** its calories to the lists in the first cell and see if the table is displayed properly. *Hint:* You will also need to add a line in the dictionary under \"grape\"."
   ]
  },
  {
   "cell_type": "code",
   "execution_count": 4,
   "id": "00e2c0d5-190c-4384-9150-895956dda9e7",
   "metadata": {},
   "outputs": [],
   "source": [
    "intakes = [1, 4, 8]\n",
    "for i, fruit in enumerate(fruits):\n",
    "    for j, intake in enumerate(intakes):\n",
    "        table[fruit].append(intakes[j] * calories[i])\n",
    "df = pd.DataFrame(table)\n"
   ]
  },
  {
   "cell_type": "markdown",
   "id": "75c17745-80e5-4dad-8f34-964b29364a9d",
   "metadata": {},
   "source": [
    "4. Print container "
   ]
  },
  {
   "cell_type": "code",
   "execution_count": 5,
   "id": "db452a5e-e717-47ad-971d-8427ac799b3d",
   "metadata": {},
   "outputs": [
    {
     "data": {
      "text/html": [
       "<div>\n",
       "<style scoped>\n",
       "    .dataframe tbody tr th:only-of-type {\n",
       "        vertical-align: middle;\n",
       "    }\n",
       "\n",
       "    .dataframe tbody tr th {\n",
       "        vertical-align: top;\n",
       "    }\n",
       "\n",
       "    .dataframe thead th {\n",
       "        text-align: right;\n",
       "    }\n",
       "</style>\n",
       "<table border=\"1\" class=\"dataframe\">\n",
       "  <thead>\n",
       "    <tr style=\"text-align: right;\">\n",
       "      <th></th>\n",
       "      <th>fruits</th>\n",
       "      <th>apple</th>\n",
       "      <th>banana</th>\n",
       "      <th>orange</th>\n",
       "      <th>grape</th>\n",
       "    </tr>\n",
       "  </thead>\n",
       "  <tbody>\n",
       "    <tr>\n",
       "      <th>0</th>\n",
       "      <td>snack</td>\n",
       "      <td>15</td>\n",
       "      <td>25</td>\n",
       "      <td>13</td>\n",
       "      <td>20</td>\n",
       "    </tr>\n",
       "    <tr>\n",
       "      <th>1</th>\n",
       "      <td>meal</td>\n",
       "      <td>60</td>\n",
       "      <td>100</td>\n",
       "      <td>52</td>\n",
       "      <td>80</td>\n",
       "    </tr>\n",
       "    <tr>\n",
       "      <th>2</th>\n",
       "      <td>day</td>\n",
       "      <td>120</td>\n",
       "      <td>200</td>\n",
       "      <td>104</td>\n",
       "      <td>160</td>\n",
       "    </tr>\n",
       "  </tbody>\n",
       "</table>\n",
       "</div>"
      ],
      "text/plain": [
       "  fruits  apple  banana  orange  grape\n",
       "0  snack     15      25      13     20\n",
       "1   meal     60     100      52     80\n",
       "2    day    120     200     104    160"
      ]
     },
     "metadata": {},
     "output_type": "display_data"
    }
   ],
   "source": [
    "pd.set_option('float_format', '{:,.2f}'.format) \n",
    "display(df)"
   ]
  }
 ],
 "metadata": {
  "kernelspec": {
   "display_name": "Python 3 (ipykernel)",
   "language": "python",
   "name": "python3"
  },
  "language_info": {
   "codemirror_mode": {
    "name": "ipython",
    "version": 3
   },
   "file_extension": ".py",
   "mimetype": "text/x-python",
   "name": "python",
   "nbconvert_exporter": "python",
   "pygments_lexer": "ipython3",
   "version": "3.8.16"
  }
 },
 "nbformat": 4,
 "nbformat_minor": 5
}
